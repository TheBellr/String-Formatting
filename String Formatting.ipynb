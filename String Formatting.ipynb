{
 "cells": [
  {
   "cell_type": "markdown",
   "id": "864c3118-cbed-429e-aa19-ab5bf535e9e3",
   "metadata": {},
   "source": [
    "# String Formatting\n",
    "Develop a program that formats a given string by adding leading zeros to a numeric substring. For example, convert \"Version: 1.2.3\" to \"Version: 001.002.003\" using string methods and indexing."
   ]
  },
  {
   "cell_type": "code",
   "execution_count": null,
   "id": "1a416ded-6d30-47d4-bc48-f34e8a10f480",
   "metadata": {},
   "outputs": [],
   "source": [
    "digits = input ('Enter 3 numbers and seperate them with fullstops: ')\n",
    "update = digits.split ('.')\n",
    "first_no = update[0].zfill(3)\n",
    "second_no = update[1].zfill(3)\n",
    "third_no = update[2].zfill(3)\n",
    "\n",
    "print (\"The formatted string is: \" + str (first_no) + '.' + str (second_no) + '.' + str (third_no))"
   ]
  }
 ],
 "metadata": {
  "kernelspec": {
   "display_name": "Python 3 (ipykernel)",
   "language": "python",
   "name": "python3"
  },
  "language_info": {
   "codemirror_mode": {
    "name": "ipython",
    "version": 3
   },
   "file_extension": ".py",
   "mimetype": "text/x-python",
   "name": "python",
   "nbconvert_exporter": "python",
   "pygments_lexer": "ipython3",
   "version": "3.11.5"
  }
 },
 "nbformat": 4,
 "nbformat_minor": 5
}
